{
 "cells": [
  {
   "cell_type": "code",
   "execution_count": 1,
   "metadata": {
    "collapsed": false,
    "deletable": true,
    "editable": true
   },
   "outputs": [
    {
     "name": "stdout",
     "output_type": "stream",
     "text": [
      "Once deleted, variables cannot be recovered. Proceed (y/[n])? y\n"
     ]
    }
   ],
   "source": [
    "%reset\n",
    "%load_ext autoreload\n",
    "%autoreload 2\n",
    "\n",
    "import matplotlib.pyplot as plt\n",
    "import numpy as np\n",
    "\n",
    "from pdf_computer import pdfComputer\n",
    "from logistic_network import Logistic\n",
    "from info import info\n",
    "%matplotlib inline"
   ]
  },
  {
   "cell_type": "code",
   "execution_count": 2,
   "metadata": {
    "collapsed": true,
    "deletable": true,
    "editable": true
   },
   "outputs": [],
   "source": [
    "# Generate TS values\n",
    "nstep = 1000\n",
    "x = np.random.uniform(0,1,1000)\n",
    "y = np.random.uniform(0,1,1000)\n",
    "z = x+y \n",
    "# The number of bins in each dimension\n",
    "n1, n2, n3 = 30, 30, 30"
   ]
  },
  {
   "cell_type": "code",
   "execution_count": 4,
   "metadata": {
    "collapsed": false,
    "deletable": true,
    "editable": true
   },
   "outputs": [
    {
     "data": {
      "text/plain": [
       "H(X)        4.897895\n",
       "H(Y)        4.644863\n",
       "I(X;Z)      0.052046\n",
       "I(Y;Z)      0.649850\n",
       "I(X;Y)      0.652039\n",
       "I(Y,Z|X)    2.380777\n",
       "I(X,Z|Y)    1.782973\n",
       "II          1.730927\n",
       "Itotal      2.432823\n",
       "Rmin        0.000000\n",
       "Isource     0.140378\n",
       "RMMI        0.052046\n",
       "R(Z;Y,X)    0.007306\n",
       "S(Z;Y,X)    1.738233\n",
       "U(Z,X)      0.044740\n",
       "U(Z,Y)      0.642544\n",
       "dtype: float64"
      ]
     },
     "execution_count": 4,
     "metadata": {},
     "output_type": "execute_result"
    }
   ],
   "source": [
    "# Calculate the pdf & the info\n",
    "data = np.array([x,y,z]).T\n",
    "# Calculate the PDF\n",
    "pdfsolver = pdfComputer(ndim=3, approach='kde', bandwidth='silverman', kernel='epanechnikov')\n",
    "_, pdf, cd = pdfsolver.computePDF(data, nbins=[n1,n2,n3])\n",
    "# xv, yv = np.meshgrid(cd[0], cd[2], indexing='ij')\n",
    "# plt.contourf(xv, yv, np.sum(pdf2,axis=(0)))\n",
    "# Calculate the INFO\n",
    "test2_info = info(pdf, base=2)\n",
    "test2_info.allInfo"
   ]
  },
  {
   "cell_type": "code",
   "execution_count": 11,
   "metadata": {
    "collapsed": false,
    "deletable": true,
    "editable": true
   },
   "outputs": [
    {
     "data": {
      "text/plain": [
       "0.0"
      ]
     },
     "execution_count": 11,
     "metadata": {},
     "output_type": "execute_result"
    }
   ],
   "source": [
    "# Generate TS values\n",
    "nstep = 1000\n",
    "x = np.random.uniform(0,1,1000)\n",
    "y = np.random.uniform(0,1,1000)\n",
    "z = x-y \n",
    "# The number of bins in each dimension\n",
    "n1, n2, n3 = 30, 30, 30\n",
    "# Calculate the pdf & the info\n",
    "data = np.array([x,y,z]).T\n",
    "# Calculate the PDF\n",
    "pdfsolver = pdfComputer(ndim=3, approach='kde', bandwidth='silverman', kernel='epanechnikov')\n",
    "_, pdf, cd = pdfsolver.computePDF(data, nbins=[n1,n2,n3])\n",
    "# xv, yv = np.meshgrid(cd[0], cd[2], indexing='ij')\n",
    "# plt.contourf(xv, yv, np.sum(pdf2,axis=(0)))\n",
    "# Calculate the INFO\n",
    "test2_info = info(pdf, base=2)\n",
    "test2_info.allInfo"
   ]
  },
  {
   "cell_type": "code",
   "execution_count": null,
   "metadata": {
    "collapsed": true
   },
   "outputs": [],
   "source": []
  }
 ],
 "metadata": {
  "kernelspec": {
   "display_name": "Python 2",
   "language": "python",
   "name": "python2"
  },
  "language_info": {
   "codemirror_mode": {
    "name": "ipython",
    "version": 2
   },
   "file_extension": ".py",
   "mimetype": "text/x-python",
   "name": "python",
   "nbconvert_exporter": "python",
   "pygments_lexer": "ipython2",
   "version": "2.7.13"
  }
 },
 "nbformat": 4,
 "nbformat_minor": 2
}
