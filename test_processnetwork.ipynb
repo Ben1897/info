{
 "cells": [
  {
   "cell_type": "code",
   "execution_count": 1,
   "metadata": {
    "collapsed": false,
    "deletable": true,
    "editable": true
   },
   "outputs": [
    {
     "name": "stdout",
     "output_type": "stream",
     "text": [
      "Once deleted, variables cannot be recovered. Proceed (y/[n])? y\n"
     ]
    }
   ],
   "source": [
    "%reset\n",
    "%load_ext autoreload\n",
    "%autoreload 2\n",
    "\n",
    "import matplotlib.pyplot as plt\n",
    "import numpy as np\n",
    "\n",
    "from process_network import processNetwork\n",
    "%matplotlib inline"
   ]
  },
  {
   "cell_type": "code",
   "execution_count": 2,
   "metadata": {
    "collapsed": true,
    "deletable": true,
    "editable": true
   },
   "outputs": [],
   "source": [
    "# Generate TS values\n",
    "nstep = 1000\n",
    "x = np.random.uniform(0,1,1000)\n",
    "y = 3*np.random.uniform(0,1,1000)\n",
    "z = x+y \n",
    "# The number of bins in each dimension\n",
    "nbins = [20,20,20]"
   ]
  },
  {
   "cell_type": "code",
   "execution_count": 3,
   "metadata": {
    "collapsed": false,
    "deletable": true,
    "editable": true
   },
   "outputs": [
    {
     "name": "stderr",
     "output_type": "stream",
     "text": [
      "info.py:247: RuntimeWarning: invalid value encountered in divide\n",
      "  txypdf_log = np.ma.log(pdfs*factor1/(factor2*factor3))\n"
     ]
    },
    {
     "data": {
      "text/plain": [
       "array([[ 0.        ,  0.        ,  0.        ],\n",
       "       [ 2.76219013,  0.        ,  0.36849763],\n",
       "       [ 0.        ,  0.        ,  0.        ],\n",
       "       [ 0.        ,  0.        ,  0.        ],\n",
       "       [ 0.        ,  2.6622052 ,  1.52064243],\n",
       "       [ 0.        ,  0.        ,  0.        ],\n",
       "       [ 0.        ,  0.        ,  0.        ],\n",
       "       [ 0.36849763,  1.52064243,  2.62377011],\n",
       "       [ 0.        ,  0.        ,  0.        ]])"
      ]
     },
     "execution_count": 3,
     "metadata": {},
     "output_type": "execute_result"
    }
   ],
   "source": [
    "# Compute the network\n",
    "data = np.array([x,y,z]).T\n",
    "pn=processNetwork(data, nbins, maxlag=1)\n",
    "pn.mi"
   ]
  },
  {
   "cell_type": "code",
   "execution_count": 4,
   "metadata": {
    "collapsed": false,
    "deletable": true,
    "editable": true
   },
   "outputs": [
    {
     "name": "stdout",
     "output_type": "stream",
     "text": [
      "   Target  Source 1  lag  Source 2  lag         Value\n",
      "0     1.0       1.0  0.0       3.0  0.0  8.683698e-03\n",
      "1     1.0       3.0  0.0       1.0  0.0  8.683698e-03\n",
      "2     2.0       2.0  0.0       3.0  0.0  1.625665e-02\n",
      "3     2.0       3.0  0.0       2.0  0.0  1.625665e-02\n",
      "4     3.0       1.0  0.0       2.0  0.0  1.733833e+00\n",
      "5     3.0       2.0  0.0       1.0  0.0  1.733833e+00\n",
      "6     3.0       1.0  0.0       3.0  0.0  7.216450e-16\n",
      "7     3.0       3.0  0.0       1.0  0.0  7.216450e-16\n",
      "8     3.0       2.0  0.0       3.0  0.0  1.968745e-02\n",
      "9     3.0       3.0  0.0       2.0  0.0  1.968745e-02\n"
     ]
    }
   ],
   "source": [
    "# Synergistic information\n",
    "print pn.ps"
   ]
  },
  {
   "cell_type": "code",
   "execution_count": 5,
   "metadata": {
    "collapsed": false,
    "deletable": true,
    "editable": true
   },
   "outputs": [
    {
     "name": "stdout",
     "output_type": "stream",
     "text": [
      "   Target  Source 1  lag  Source 2  lag     Value\n",
      "0     1.0       1.0  0.0       3.0  0.0  0.321153\n",
      "1     1.0       3.0  0.0       1.0  0.0  0.321153\n",
      "2     2.0       2.0  0.0       3.0  0.0  1.515503\n",
      "3     2.0       3.0  0.0       2.0  0.0  1.515503\n",
      "4     3.0       1.0  0.0       2.0  0.0  0.048779\n",
      "5     3.0       2.0  0.0       1.0  0.0  0.048779\n",
      "6     3.0       1.0  0.0       3.0  0.0  0.487004\n",
      "7     3.0       3.0  0.0       1.0  0.0  0.487004\n",
      "8     3.0       2.0  0.0       3.0  0.0  1.509073\n",
      "9     3.0       3.0  0.0       2.0  0.0  1.509073\n"
     ]
    }
   ],
   "source": [
    "# Redundant information\n",
    "print pn.pr"
   ]
  },
  {
   "cell_type": "code",
   "execution_count": 6,
   "metadata": {
    "collapsed": false,
    "deletable": true,
    "editable": true
   },
   "outputs": [
    {
     "name": "stdout",
     "output_type": "stream",
     "text": [
      "   Target  Source 1  lag  Source 2  lag     Value\n",
      "0     1.0       1.0  0.0       3.0  0.0 -0.312469\n",
      "1     1.0       3.0  0.0       1.0  0.0 -0.312469\n",
      "2     2.0       2.0  0.0       3.0  0.0 -1.499247\n",
      "3     2.0       3.0  0.0       2.0  0.0 -1.499247\n",
      "4     3.0       1.0  0.0       2.0  0.0  1.685054\n",
      "5     3.0       2.0  0.0       1.0  0.0  1.685054\n",
      "6     3.0       1.0  0.0       3.0  0.0 -0.487004\n",
      "7     3.0       3.0  0.0       1.0  0.0 -0.487004\n",
      "8     3.0       2.0  0.0       3.0  0.0 -1.489386\n",
      "9     3.0       3.0  0.0       2.0  0.0 -1.489386\n"
     ]
    }
   ],
   "source": [
    "# Interaction information\n",
    "print pn.pii"
   ]
  },
  {
   "cell_type": "code",
   "execution_count": 7,
   "metadata": {
    "collapsed": false,
    "deletable": true,
    "editable": true
   },
   "outputs": [
    {
     "name": "stdout",
     "output_type": "stream",
     "text": [
      "   Target  Source 1  lag  Source 2  lag         Value\n",
      "0     1.0       1.0  0.0       3.0  0.0  2.479690e+00\n",
      "1     1.0       3.0  0.0       1.0  0.0  8.938903e-02\n",
      "2     2.0       2.0  0.0       3.0  0.0  1.252891e+00\n",
      "3     2.0       3.0  0.0       2.0  0.0  4.332608e-02\n",
      "4     3.0       1.0  0.0       2.0  0.0  2.171886e+00\n",
      "5     3.0       2.0  0.0       1.0  0.0  3.620448e+00\n",
      "6     3.0       1.0  0.0       3.0  0.0  6.118256e-15\n",
      "7     3.0       3.0  0.0       1.0  0.0  3.659526e+00\n",
      "8     3.0       2.0  0.0       3.0  0.0  5.253389e-02\n",
      "9     3.0       3.0  0.0       2.0  0.0  1.222101e+00\n"
     ]
    }
   ],
   "source": [
    "# Conditional mutual information\n",
    "print pn.pcmi"
   ]
  },
  {
   "cell_type": "code",
   "execution_count": null,
   "metadata": {
    "collapsed": true,
    "deletable": true,
    "editable": true
   },
   "outputs": [],
   "source": [
    "\n"
   ]
  }
 ],
 "metadata": {
  "kernelspec": {
   "display_name": "Python 2",
   "language": "python",
   "name": "python2"
  },
  "language_info": {
   "codemirror_mode": {
    "name": "ipython",
    "version": 2
   },
   "file_extension": ".py",
   "mimetype": "text/x-python",
   "name": "python",
   "nbconvert_exporter": "python",
   "pygments_lexer": "ipython2",
   "version": "2.7.13"
  }
 },
 "nbformat": 4,
 "nbformat_minor": 2
}
