{
 "cells": [
  {
   "cell_type": "code",
   "execution_count": 3,
   "metadata": {
    "collapsed": false,
    "deletable": true,
    "editable": true
   },
   "outputs": [
    {
     "name": "stdout",
     "output_type": "stream",
     "text": [
      "Once deleted, variables cannot be recovered. Proceed (y/[n])? y\n",
      "The autoreload extension is already loaded. To reload it, use:\n",
      "  %reload_ext autoreload\n"
     ]
    }
   ],
   "source": [
    "%reset\n",
    "%load_ext autoreload\n",
    "%autoreload 2\n",
    "\n",
    "import matplotlib.pyplot as plt\n",
    "import numpy as np\n",
    "\n",
    "from pdf_computer import pdfComputer\n",
    "from sst import conductSST\n",
    "%matplotlib inline"
   ]
  },
  {
   "cell_type": "code",
   "execution_count": 4,
   "metadata": {
    "collapsed": false,
    "deletable": true,
    "editable": true
   },
   "outputs": [
    {
     "name": "stdout",
     "output_type": "stream",
     "text": [
      "(False, 0.0)\n",
      "(True, 0.59265130234767804)\n",
      "(True, 0.57973850872396471)\n"
     ]
    }
   ],
   "source": [
    "# test1 -- Generate data\n",
    "nstep = 1000\n",
    "x = np.random.uniform(0,1,1000)\n",
    "y = np.random.uniform(0,1,1000)\n",
    "z = x+y\n",
    "# The number of bins in each dimension\n",
    "nx, ny, nz = 20, 25, 30\n",
    "# Conduct SST\n",
    "print conductSST(x, y, nx, ny, approach='kde_cuda', atomCheck=True)\n",
    "print conductSST(y, z, ny, nz, approach='kde_cuda', atomCheck=True)\n",
    "print conductSST(x, z, nx, nz, approach='kde_cuda', atomCheck=True)"
   ]
  },
  {
   "cell_type": "code",
   "execution_count": null,
   "metadata": {
    "collapsed": true,
    "deletable": true,
    "editable": true
   },
   "outputs": [],
   "source": []
  }
 ],
 "metadata": {
  "kernelspec": {
   "display_name": "Python 2",
   "language": "python",
   "name": "python2"
  },
  "language_info": {
   "codemirror_mode": {
    "name": "ipython",
    "version": 2
   },
   "file_extension": ".py",
   "mimetype": "text/x-python",
   "name": "python",
   "nbconvert_exporter": "python",
   "pygments_lexer": "ipython2",
   "version": "2.7.10"
  }
 },
 "nbformat": 4,
 "nbformat_minor": 2
}
