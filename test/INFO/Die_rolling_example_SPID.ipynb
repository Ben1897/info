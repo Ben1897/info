{
 "cells": [
  {
   "cell_type": "code",
   "execution_count": 1,
   "metadata": {
    "collapsed": false
   },
   "outputs": [],
   "source": [
    "# %reset\n",
    "# %load_ext autoreload\n",
    "# %autoreload 2\n",
    "\n",
    "import matplotlib.pyplot as plt\n",
    "import numpy as np\n",
    "import itertools\n",
    "\n",
    "from info.core.info import info\n",
    "%matplotlib inline"
   ]
  },
  {
   "cell_type": "code",
   "execution_count": 2,
   "metadata": {
    "collapsed": false
   },
   "outputs": [],
   "source": [
    "# Generate the joint PDF for the die rolling\n",
    "die1, die2 = np.arange(1,7), np.arange(1,7)\n",
    "# diescomb = list(itertools.product(die1, die2))\n",
    "diesadd = [(x, y, x+y) for x in die1 for y in die2]\n",
    "# diesadd = [(comb[0], comb[1], comb[0]+comb[1]) for comb in diescomb]\n",
    "adddie = np.arange(1, 13)\n",
    "\n",
    "pdfs = np.zeros([6,6,12])\n",
    "for i in range(1, 7):\n",
    "    for j in range(1, 7):\n",
    "        if (i, j, i+j) in diesadd:\n",
    "            pdfs[i-1, j-1, i+j-1] += 1\n",
    "pdfs = pdfs / np.sum(pdfs)"
   ]
  },
  {
   "cell_type": "code",
   "execution_count": 3,
   "metadata": {
    "collapsed": false
   },
   "outputs": [
    {
     "data": {
      "text/plain": [
       "II          1.895523e+00\n",
       "Itotal      3.274402e+00\n",
       "R(Z;Y,X)    2.368875e-16\n",
       "S(Z;Y,X)    1.895523e+00\n",
       "U(Z,X)      6.894394e-01\n",
       "U(Z,Y)      6.894394e-01\n",
       "Rmin        0.000000e+00\n",
       "Isource     3.435943e-16\n",
       "RMMI        6.894394e-01\n",
       "dtype: float64"
      ]
     },
     "execution_count": 3,
     "metadata": {},
     "output_type": "execute_result"
    }
   ],
   "source": [
    "# Compute PID\n",
    "pid=info(ndim=3, pdfs=pdfs, base=2, conditioned=False)\n",
    "pid.allInfo"
   ]
  },
  {
   "cell_type": "code",
   "execution_count": 4,
   "metadata": {
    "collapsed": false
   },
   "outputs": [
    {
     "data": {
      "text/plain": [
       "II          1.895523\n",
       "Itotal      3.274402\n",
       "R(Z;Y,X)    0.000000\n",
       "S(Z;Y,X)    1.895523\n",
       "U(Z,X)      0.689439\n",
       "U(Z,Y)      0.689439\n",
       "Rmin        0.000000\n",
       "Isource     0.000000\n",
       "RMMI        0.566405\n",
       "dtype: float64"
      ]
     },
     "execution_count": 4,
     "metadata": {},
     "output_type": "execute_result"
    }
   ],
   "source": [
    "# Compute SPID\n",
    "pid2=info(ndim=3, pdfs=pdfs, base=2, conditioned=False, specific=True)\n",
    "pid2.allInfo"
   ]
  },
  {
   "cell_type": "code",
   "execution_count": 5,
   "metadata": {
    "collapsed": false
   },
   "outputs": [
    {
     "data": {
      "image/png": "[encoded data removed]",
      "text/plain": [
       "<matplotlib.figure.Figure at 0x7f564d68b650>"
      ]
     },
     "metadata": {},
     "output_type": "display_data"
    }
   ],
   "source": [
    "# Plot the contours of s, r, ux and uy\n",
    "def plot_spid(ss, rs, uxs, uys):\n",
    "    f, axes = plt.subplots(2, 2, figsize=(10, 8))\n",
    "    # s\n",
    "    ax = axes[0,0]\n",
    "    ims = ax.imshow(ss)\n",
    "    ax.set_title('s')\n",
    "    ax.set_xticks(range(6))\n",
    "    ax.set_xticklabels(range(1,7))\n",
    "    ax.set_yticks(range(6))\n",
    "    ax.set_yticklabels(range(1,7))\n",
    "    ax.set_xlabel('source1')\n",
    "    ax.set_ylabel('source2')\n",
    "    plt.colorbar(ims, ax=ax)\n",
    "    # r\n",
    "    ax = axes[0,1]\n",
    "    ims = ax.imshow(rs)\n",
    "    ax.set_title('r')\n",
    "    ax.set_xticks(range(6))\n",
    "    ax.set_xticklabels(range(1,7))\n",
    "    ax.set_yticks(range(6))\n",
    "    ax.set_yticklabels(range(1,7))\n",
    "    ax.set_xlabel('source1')\n",
    "    ax.set_ylabel('source2')\n",
    "    plt.colorbar(ims, ax=ax)\n",
    "    # ux\n",
    "    ax = axes[1,0]\n",
    "    ims =  ax.imshow(uxs)\n",
    "    ax.set_title('ux')\n",
    "    ax.set_xticks(range(6))\n",
    "    ax.set_xticklabels(range(1,7))\n",
    "    ax.set_yticks(range(6))\n",
    "    ax.set_yticklabels(range(1,7))\n",
    "    ax.set_xlabel('source1')\n",
    "    ax.set_ylabel('source2')\n",
    "    plt.colorbar(ims, ax=ax)\n",
    "    # uy\n",
    "    ax = axes[1,1]\n",
    "    ims = ax.imshow(uys)\n",
    "    ax.set_title('uy')\n",
    "    ax.set_xticks(range(6))\n",
    "    ax.set_xticklabels(range(1,7))\n",
    "    ax.set_yticks(range(6))\n",
    "    ax.set_yticklabels(range(1,7))\n",
    "    ax.set_xlabel('source1')\n",
    "    ax.set_ylabel('source2')\n",
    "    plt.colorbar(ims, ax=ax)\n",
    "    \n",
    "    plt.tight_layout(pad=0.4, w_pad=0.5, h_pad=1.0)\n",
    "    return f, axes\n",
    "\n",
    "f, axes = plot_spid(pid2.ss, pid2.rs, pid2.uxzs, pid2.uyzs)"
   ]
  },
  {
   "cell_type": "code",
   "execution_count": 6,
   "metadata": {
    "collapsed": false
   },
   "outputs": [],
   "source": [
    "# Plots for explanations"
   ]
  },
  {
   "cell_type": "code",
   "execution_count": 7,
   "metadata": {
    "collapsed": false
   },
   "outputs": [],
   "source": [
    "# print np.sum(pdfs, axis=(1))[0, :]\n",
    "# print np.sum(pdfs, axis=(1))[2, :]\n",
    "# print np.sum(pdfs, axis=(0,1))\n",
    "# print np.sum(pdfs, axis=(1,2))\n",
    "# print np.sum(pdfs, axis=(0,2))\n",
    "# # print np.sum(pid2.ss, axis=(1))"
   ]
  },
  {
   "cell_type": "code",
   "execution_count": 8,
   "metadata": {
    "collapsed": true
   },
   "outputs": [],
   "source": [
    "# print pid2.ixsz\n",
    "# print '---' * 25\n",
    "# print pid2.iysz\n",
    "# print '---' * 25\n",
    "# print pid2.itots\n",
    "# print '---' * 25\n",
    "# print pid2.iis"
   ]
  }
 ],
 "metadata": {
  "kernelspec": {
   "display_name": "Python 2",
   "language": "python",
   "name": "python2"
  },
  "language_info": {
   "codemirror_mode": {
    "name": "ipython",
    "version": 2
   },
   "file_extension": ".py",
   "mimetype": "text/x-python",
   "name": "python",
   "nbconvert_exporter": "python",
   "pygments_lexer": "ipython2",
   "version": "2.7.13"
  }
 },
 "nbformat": 4,
 "nbformat_minor": 2
}
