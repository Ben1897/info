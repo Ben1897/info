{
 "cells": [
  {
   "cell_type": "code",
   "execution_count": 1,
   "metadata": {
    "collapsed": false
   },
   "outputs": [],
   "source": [
    "# %reset\n",
    "# %load_ext autoreload\n",
    "# %autoreload 2\n",
    "\n",
    "import matplotlib.pyplot as plt\n",
    "import matplotlib.gridspec as gridspec\n",
    "from mpl_toolkits.mplot3d import Axes3D\n",
    "from matplotlib.colorbar import Colorbar\n",
    "import numpy as np\n",
    "import itertools\n",
    "\n",
    "from info.core.info import info\n",
    "%matplotlib inline"
   ]
  },
  {
   "cell_type": "code",
   "execution_count": 2,
   "metadata": {
    "collapsed": false
   },
   "outputs": [],
   "source": [
    "# Generate the joint PDF for the die rolling\n",
    "die1, die2 = np.arange(1,7), np.arange(1,7)\n",
    "# diescomb = list(itertools.product(die1, die2))\n",
    "diesadd = [(x, y, x+y) for x in die1 for y in die2]\n",
    "# diesadd = [(comb[0], comb[1], comb[0]+comb[1]) for comb in diescomb]\n",
    "adddie = np.arange(1, 13)\n",
    "\n",
    "pdfs = np.zeros([6,6,12])\n",
    "for i in range(1, 7):\n",
    "    for j in range(1, 7):\n",
    "        if (i, j, i+j) in diesadd:\n",
    "            pdfs[i-1, j-1, i+j-1] += 1\n",
    "pdfs = pdfs / np.sum(pdfs)"
   ]
  },
  {
   "cell_type": "code",
   "execution_count": 3,
   "metadata": {
    "collapsed": false
   },
   "outputs": [
    {
     "data": {
      "text/plain": [
       "II          1.895523e+00\n",
       "Itotal      3.274402e+00\n",
       "R(Z;Y,X)    2.368875e-16\n",
       "S(Z;Y,X)    1.895523e+00\n",
       "U(Z,X)      6.894394e-01\n",
       "U(Z,Y)      6.894394e-01\n",
       "Rmin        0.000000e+00\n",
       "Isource     3.435943e-16\n",
       "RMMI        6.894394e-01\n",
       "dtype: float64"
      ]
     },
     "execution_count": 3,
     "metadata": {},
     "output_type": "execute_result"
    }
   ],
   "source": [
    "# Compute PID\n",
    "pid=info(ndim=3, pdfs=pdfs, base=2, conditioned=False)\n",
    "pid.allInfo"
   ]
  },
  {
   "cell_type": "code",
   "execution_count": 4,
   "metadata": {
    "collapsed": false
   },
   "outputs": [
    {
     "data": {
      "text/plain": [
       "II          1.895523\n",
       "Itotal      3.274402\n",
       "R(Z;Y,X)    0.000000\n",
       "S(Z;Y,X)    1.895523\n",
       "U(Z,X)      0.689439\n",
       "U(Z,Y)      0.689439\n",
       "Rmin        0.000000\n",
       "Isource     0.000000\n",
       "RMMI        0.566405\n",
       "dtype: float64"
      ]
     },
     "execution_count": 4,
     "metadata": {},
     "output_type": "execute_result"
    }
   ],
   "source": [
    "# Compute SPID\n",
    "pid2=info(ndim=3, pdfs=pdfs, base=2, conditioned=False, specific=True)\n",
    "pid2.allInfo"
   ]
  },
  {
   "cell_type": "code",
   "execution_count": 21,
   "metadata": {
    "collapsed": false
   },
   "outputs": [
    {
     "data": {
      "image/png": "[encoded data removed]",
      "text/plain": [
       "<matplotlib.figure.Figure at 0x7fcf50079a50>"
      ]
     },
     "metadata": {},
     "output_type": "display_data"
    }
   ],
   "source": [
    "# Plot the contours of s, r, ux and uy\n",
    "def plot_spid(ss, rs, uxs, uys):\n",
    "    f, axes = plt.subplots(2, 2, figsize=(10, 8))\n",
    "    # s\n",
    "    ax = axes[0,0]\n",
    "    ims = ax.imshow(ss)\n",
    "    ax.set_title('s')\n",
    "    ax.set_xticks(range(6))\n",
    "    ax.set_xticklabels(range(1,7))\n",
    "    ax.set_yticks(range(6))\n",
    "    ax.set_yticklabels(range(1,7))\n",
    "    ax.set_ylabel('X')\n",
    "    ax.set_xlabel('Y')\n",
    "    plt.colorbar(ims, ax=ax)\n",
    "    # r\n",
    "    ax = axes[0,1]\n",
    "    ims = ax.imshow(rs)\n",
    "    ax.set_title('r')\n",
    "    ax.set_xticks(range(6))\n",
    "    ax.set_xticklabels(range(1,7))\n",
    "    ax.set_yticks(range(6))\n",
    "    ax.set_yticklabels(range(1,7))\n",
    "    ax.set_ylabel('X')\n",
    "    ax.set_xlabel('Y')\n",
    "    plt.colorbar(ims, ax=ax)\n",
    "    # ux\n",
    "    ax = axes[1,0]\n",
    "    ims =  ax.imshow(uxs)\n",
    "    ax.set_title('ux')\n",
    "    ax.set_xticks(range(6))\n",
    "    ax.set_xticklabels(range(1,7))\n",
    "    ax.set_yticks(range(6))\n",
    "    ax.set_yticklabels(range(1,7))\n",
    "    ax.set_ylabel('X')\n",
    "    ax.set_xlabel('Y')\n",
    "    plt.colorbar(ims, ax=ax)\n",
    "    # uy\n",
    "    ax = axes[1,1]\n",
    "    ims = ax.imshow(uys)\n",
    "    ax.set_title('uy')\n",
    "    ax.set_xticks(range(6))\n",
    "    ax.set_xticklabels(range(1,7))\n",
    "    ax.set_yticks(range(6))\n",
    "    ax.set_yticklabels(range(1,7))\n",
    "    ax.set_ylabel('X')\n",
    "    ax.set_xlabel('Y')\n",
    "    plt.colorbar(ims, ax=ax)\n",
    "    \n",
    "    plt.tight_layout(pad=0.4, w_pad=0.5, h_pad=1.0)\n",
    "    return f, axes\n",
    "\n",
    "f, axes = plot_spid(pid2.ss, pid2.rs, pid2.uxzs, pid2.uyzs)"
   ]
  },
  {
   "cell_type": "code",
   "execution_count": 14,
   "metadata": {
    "collapsed": false
   },
   "outputs": [
    {
     "data": {
      "text/plain": [
       "<matplotlib.colorbar.Colorbar at 0x7fcf5062ab50>"
      ]
     },
     "execution_count": 14,
     "metadata": {},
     "output_type": "execute_result"
    },
    {
     "data": {
      "image/png": "[encoded data removed]",
      "text/plain": [
       "<matplotlib.figure.Figure at 0x7fcf5496c210>"
      ]
     },
     "metadata": {},
     "output_type": "display_data"
    }
   ],
   "source": [
    "# Plots for explanations for s and r\n",
    "# import seaborn as sns\n",
    "fig = plt.figure(figsize=(10, 8))\n",
    "# gs = gridspec.GridSpec(6, 5, wspace=0.6, hspace=1.)\n",
    "gs = gridspec.GridSpec(3, 3, height_ratios=[1,1,1], width_ratios=[1,1,1])\n",
    "gs.update(wspace=0.4, hspace=0.5)\n",
    "\n",
    "# Plot i(X=x,Y=y;Z)\n",
    "ax = fig.add_subplot(gs[0, 0])\n",
    "ims = ax.imshow(pid2.itots,aspect='auto')\n",
    "ax.set_xticks(range(6))\n",
    "ax.set_xticklabels(range(1,7))\n",
    "ax.set_yticks(range(6))\n",
    "ax.set_yticklabels(range(1,7))\n",
    "ax.set_ylabel('X')\n",
    "ax.set_xlabel('Y')\n",
    "ax.set_title('i(X=x,Y=y;Z)')\n",
    "plt.colorbar(ims, ax=ax)\n",
    "\n",
    "# Plot the color bar for i(X=x;Y=y;Z)\n",
    "# cbax = fig.add_subplot(gs[0, 1])\n",
    "# cb = Colorbar(ax = cbax, mappable = ims)\n",
    "# cbax.set_title('bits')\n",
    "# cb.set_label(r'Colorbar !', labelpad=10)\n",
    "\n",
    "# Plot ii(X=x;Y=y;Z)\n",
    "ax = fig.add_subplot(gs[1, 0])\n",
    "ims = ax.imshow(pid2.iis,aspect='auto')\n",
    "ax.set_xticks(range(6))\n",
    "ax.set_xticklabels(range(1,7))\n",
    "ax.set_yticks(range(6))\n",
    "ax.set_yticklabels(range(1,7))\n",
    "ax.set_ylabel('X')\n",
    "ax.set_xlabel('Y')\n",
    "ax.set_title('ii(X=x;Y=y;Z)')\n",
    "plt.colorbar(ims, ax=ax)\n",
    "\n",
    "# Plot the color bar for i(X=x;Y=y;Z)\n",
    "# cbax = fig.add_subplot(gs[1, 1])\n",
    "# cb = Colorbar(ax = cbax, mappable = ims)\n",
    "# cbax.set_title('bits')\n",
    "# cb.set_label(r'Colorbar !', labelpad=10)\n",
    "\n",
    "# Plot s(X=x;Y=y;Z)\n",
    "ax = fig.add_subplot(gs[2, 0])\n",
    "ims = ax.imshow(pid2.ss,aspect='auto')\n",
    "ax.set_xticks(range(6))\n",
    "ax.set_xticklabels(range(1,7))\n",
    "ax.set_yticks(range(6))\n",
    "ax.set_yticklabels(range(1,7))\n",
    "ax.set_ylabel('X')\n",
    "ax.set_xlabel('Y')\n",
    "ax.set_title('s(X=x;Y=y)')\n",
    "plt.colorbar(ims, ax=ax)\n",
    "\n",
    "# Plot the color bar for i(X=x;Y=y;Z)\n",
    "# cbax = fig.add_subplot(gs[2, 1])\n",
    "# cb = Colorbar(ax = cbax, mappable = ims)\n",
    "# cbax.set_title('bits')\n",
    "# cb.set_label(r'Colorbar !', labelpad=10)\n",
    "\n",
    "# Plot r(X=x;Y=y;Z)\n",
    "# ax = fig.add_subplot(gs[2, 1])\n",
    "# ims = ax.imshow(pid2.rs,aspect='auto')\n",
    "# ax.set_xticks(range(6))\n",
    "# ax.set_xticklabels(range(1,7))\n",
    "# ax.set_yticks(range(6))\n",
    "# ax.set_yticklabels(range(1,7))\n",
    "# ax.set_ylabel('X')\n",
    "# ax.set_xlabel('Y')\n",
    "# ax.set_title('r(X=x;Y=y)')\n",
    "# plt.colorbar(ims, ax=ax)\n",
    "\n",
    "# Plot the color bar for i(X=x;Y=y;Z)\n",
    "# cbax = fig.add_subplot(gs[2, 3])\n",
    "# cb = Colorbar(ax = cbax, mappable = ims)\n",
    "# cbax.set_title('bits')\n",
    "# cb.set_label(r'Colorbar !', labelpad=10)\n",
    "\n",
    "# Plot P(Z)\n",
    "ax = fig.add_subplot(gs[0, 1])\n",
    "zpdfs = np.sum(pdfs, axis=(0,1))\n",
    "ax.bar(range(1,13), zpdfs, color='r')\n",
    "ax.set_xlabel('Z')\n",
    "ax.set_title('P(Z)')\n",
    "# ax.set_xlim([1, 12])\n",
    "# ax.set_ylim([0, .2])\n",
    "\n",
    "# Plot -P(Z)*log(P(Z))\n",
    "ax = fig.add_subplot(gs[0, 2])\n",
    "zpdfs = np.sum(pdfs, axis=(0,1))\n",
    "plog = -np.ma.log(zpdfs).filled(0)\n",
    "ax.bar(range(1,13), plog, color='r')\n",
    "ax.set_xlabel('Z')\n",
    "ax.set_ylabel('(bits)')\n",
    "ax.set_title('-log(P(Z))')\n",
    "\n",
    "# Plot i(X=x;Z)\n",
    "ax = fig.add_subplot(gs[1, 1])\n",
    "ax.bar(range(1,7), pid2.ixsz, color='r')\n",
    "ax.set_xlabel('X')\n",
    "ax.set_ylabel('(bits)')\n",
    "ax.set_title('i(X=x;Z)')\n",
    "\n",
    "# Plot i(Y=y;Z)\n",
    "ax = fig.add_subplot(gs[1, 2])\n",
    "ax.bar(range(1,7), pid2.iysz, color='r')\n",
    "ax.set_xlabel('Y')\n",
    "ax.set_ylabel('(bits)')\n",
    "ax.set_title('i(Y=y;Z)')\n",
    "\n",
    "# Plot uxzs(X=x;Y=y)\n",
    "ax = fig.add_subplot(gs[2, 1])\n",
    "ims = ax.imshow(pid2.uxzs,aspect='auto')\n",
    "ax.set_xticks(range(6))\n",
    "ax.set_xticklabels(range(1,7))\n",
    "ax.set_yticks(range(6))\n",
    "ax.set_yticklabels(range(1,7))\n",
    "ax.set_ylabel('X')\n",
    "ax.set_xlabel('Y')\n",
    "ax.set_title('ux(X=x;Y=y)')\n",
    "plt.colorbar(ims, ax=ax)\n",
    "\n",
    "# Plot uyzs(X=x;Y=y)\n",
    "ax = fig.add_subplot(gs[2, 2])\n",
    "ims = ax.imshow(pid2.uyzs,aspect='auto')\n",
    "ax.set_xticks(range(6))\n",
    "ax.set_xticklabels(range(1,7))\n",
    "ax.set_yticks(range(6))\n",
    "ax.set_yticklabels(range(1,7))\n",
    "ax.set_ylabel('X')\n",
    "ax.set_xlabel('Y')\n",
    "ax.set_title('uy(X=x;Y=y)')\n",
    "plt.colorbar(ims, ax=ax)\n",
    "\n",
    "# plt.tight_layout()\n",
    "# ax.set_xlim([1, 12])\n",
    "# ax.set_ylim([0, .2])"
   ]
  },
  {
   "cell_type": "code",
   "execution_count": 7,
   "metadata": {
    "collapsed": false
   },
   "outputs": [],
   "source": [
    "# # Plots for explanations\n",
    "# import seaborn as sns\n",
    "# fig = plt.figure(figsize=(8,8))\n",
    "# # gs = gridspec.GridSpec(6, 5, wspace=0.6, hspace=1.)\n",
    "# gs = gridspec.GridSpec(4, 3, height_ratios=[8,1,2], width_ratios=[2,8,2], wspace=.3, hspace=.3)\n",
    "\n",
    "# # # Plot p(z)\n",
    "# # # ax1 = plt.subplot(gs[0, :-1])\n",
    "# # ax1 = fig.add_subplot(gs[1])\n",
    "# # zpdfs = np.sum(pdfs, axis=(0,1))\n",
    "# # # ax1.plot(range(1,13), zpdfs)\n",
    "# # ax1.bar(range(1,13), zpdfs, color='r')\n",
    "# # ax1.set_xlabel('Z')\n",
    "# # ax1.set_ylabel('P(Z)')\n",
    "# # ax1.set_xlim([1, 12])\n",
    "# # ax1.set_ylim([0, .2])\n",
    "\n",
    "# # Plot i(X=x;Y=y;Z)\n",
    "# # xv, yv = np.meshgrid(range(1,7), range(1,7), \n",
    "# #                      sparse=False, indexing='ij')\n",
    "# # ax2 = fig.add_subplot(gs[2], projection='3d')\n",
    "# # ax2.plot_surface(xv, yv, pid2.itots)\n",
    "# # ax2 = plt.subplot(gs[1:-1, :-1])\n",
    "# ax2 = fig.add_subplot(gs[4])\n",
    "# ax2.imshow(pid2.itots,aspect='auto')\n",
    "# ax2.set_xticks(range(6))\n",
    "# ax2.set_xticklabels(range(1,7))\n",
    "# ax2.set_yticks(range(6))\n",
    "# ax2.set_yticklabels(range(1,7))\n",
    "# ax2.set_xlabel('X')\n",
    "# ax2.set_ylabel('Y')\n",
    "\n",
    "# # Plot i(X=x;Z)\n",
    "# ax3 = fig.add_subplot(gs[1])\n",
    "# # ax3 = plt.subplot(gs[-1, :-1])\n",
    "# # ax3.plot(range(1,7), pid2.ixsz)\n",
    "# ax3.bar(range(1,7), pid2.ixsz, color='r')\n",
    "# ax3.set_xlabel('X')\n",
    "# ax3.set_ylabel('i(X=x;Z)')\n",
    "\n",
    "# # Plot i(Y=y;Z)\n",
    "# # ax4 = plt.subplot(gs[1:-1, -1])\n",
    "# ax4 = fig.add_subplot(gs[5])\n",
    "# # ax4.plot(pid2.iysz, range(1,7))\n",
    "# # ax4.bar(range(1,7), pid2.iysz, color='r', orientation='horizontal')\n",
    "# ax4.bar(left=None, height=0.8, bottom=range(1,7), width=pid2.iysz,\n",
    "#         orientation='horizontal', color='r')\n",
    "# ax4.set_ylabel('Y')\n",
    "# ax4.set_xlabel('i(Y=y;Z)')\n",
    "# ax4.xaxis.tick_top()\n",
    "# ax4.xaxis.set_label_position('top') "
   ]
  },
  {
   "cell_type": "code",
   "execution_count": 19,
   "metadata": {
    "collapsed": false
   },
   "outputs": [
    {
     "name": "stdout",
     "output_type": "stream",
     "text": [
      "[ 1.00298698  0.61599897  0.4493323   0.4493323   0.61599897  1.00298698]\n",
      "[[ 1.00298698  1.00298698  1.00298698  1.00298698  1.00298698  1.00298698]\n",
      " [ 0.61599897  0.61599897  0.61599897  0.61599897  0.61599897  0.61599897]\n",
      " [ 0.4493323   0.4493323   0.4493323   0.4493323   0.4493323   0.4493323 ]\n",
      " [ 0.4493323   0.4493323   0.4493323   0.4493323   0.4493323   0.4493323 ]\n",
      " [ 0.61599897  0.61599897  0.61599897  0.61599897  0.61599897  0.61599897]\n",
      " [ 1.00298698  1.00298698  1.00298698  1.00298698  1.00298698  1.00298698]]\n"
     ]
    }
   ],
   "source": [
    "print pid2.ixsz\n",
    "print pid2.uxzs"
   ]
  },
  {
   "cell_type": "code",
   "execution_count": null,
   "metadata": {
    "collapsed": true
   },
   "outputs": [],
   "source": []
  }
 ],
 "metadata": {
  "kernelspec": {
   "display_name": "Python 2",
   "language": "python",
   "name": "python2"
  },
  "language_info": {
   "codemirror_mode": {
    "name": "ipython",
    "version": 2
   },
   "file_extension": ".py",
   "mimetype": "text/x-python",
   "name": "python",
   "nbconvert_exporter": "python",
   "pygments_lexer": "ipython2",
   "version": "2.7.13"
  }
 },
 "nbformat": 4,
 "nbformat_minor": 2
}
