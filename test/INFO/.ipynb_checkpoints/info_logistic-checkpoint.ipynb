{
 "cells": [
  {
   "cell_type": "code",
   "execution_count": 1,
   "metadata": {
    "collapsed": false,
    "deletable": true,
    "editable": true
   },
   "outputs": [],
   "source": [
    "# %reset\n",
    "# %load_ext autoreload\n",
    "# %autoreload 2"
   ]
  },
  {
   "cell_type": "code",
   "execution_count": 2,
   "metadata": {
    "collapsed": false,
    "deletable": true,
    "editable": true
   },
   "outputs": [],
   "source": [
    "from mpl_toolkits.mplot3d import Axes3D\n",
    "import matplotlib.pyplot as plt\n",
    "import numpy as np\n",
    "\n",
    "from info.utils.pdf_computer import pdfComputer\n",
    "from info.models.logistic_network import Logistic\n",
    "from info.core.info import info\n",
    "\n",
    "# %matplotlib inline"
   ]
  },
  {
   "cell_type": "code",
   "execution_count": 3,
   "metadata": {
    "collapsed": false,
    "deletable": true,
    "editable": true
   },
   "outputs": [
    {
     "ename": "TypeError",
     "evalue": "__init__() got an unexpected keyword argument 'noiseOn'",
     "output_type": "error",
     "traceback": [
      "\u001b[0;31m--------------------------------------------------\u001b[0m",
      "\u001b[0;31mTypeError\u001b[0m        Traceback (most recent call last)",
      "\u001b[0;32m<ipython-input-3-788c38906fc2>\u001b[0m in \u001b[0;36m<module>\u001b[0;34m()\u001b[0m\n\u001b[1;32m     29\u001b[0m \u001b[0;31m# Generate the outputs\u001b[0m\u001b[0;34m\u001b[0m\u001b[0;34m\u001b[0m\u001b[0m\n\u001b[1;32m     30\u001b[0m logistic = Logistic(n, adjM, lagM, noiseType=noiseType, noiseOn=noiseOn,\n\u001b[0;32m---> 31\u001b[0;31m                      noiseDist=noiseDist, noisePara=noisePara)\n\u001b[0m\u001b[1;32m     32\u001b[0m \u001b[0mresults\u001b[0m \u001b[0;34m=\u001b[0m \u001b[0mlogistic\u001b[0m\u001b[0;34m.\u001b[0m\u001b[0msimulate\u001b[0m\u001b[0;34m(\u001b[0m\u001b[0mnstep\u001b[0m\u001b[0;34m)\u001b[0m\u001b[0;34m\u001b[0m\u001b[0m\n\u001b[1;32m     33\u001b[0m \u001b[0md1\u001b[0m\u001b[0;34m,\u001b[0m \u001b[0md2\u001b[0m \u001b[0;34m=\u001b[0m \u001b[0mresults\u001b[0m\u001b[0;34m[\u001b[0m\u001b[0;36m0\u001b[0m\u001b[0;34m,\u001b[0m\u001b[0;34m:\u001b[0m \u001b[0;34m]\u001b[0m\u001b[0;34m,\u001b[0m \u001b[0mresults\u001b[0m\u001b[0;34m[\u001b[0m\u001b[0;36m1\u001b[0m\u001b[0;34m,\u001b[0m \u001b[0;34m:\u001b[0m\u001b[0;34m]\u001b[0m\u001b[0;34m*\u001b[0m\u001b[0;36m2\u001b[0m\u001b[0;34m\u001b[0m\u001b[0m\n",
      "\u001b[0;31mTypeError\u001b[0m: __init__() got an unexpected keyword argument 'noiseOn'"
     ]
    }
   ],
   "source": [
    "# Test\n",
    "# x2(t) = 4*x1(t-1)*(1-x(t-1)); x1(t)~U[0,1]\n",
    "\n",
    "# The number of bins in each dimension\n",
    "n1, n2, n3 = 20, 25, 30\n",
    "\n",
    "# Settings for plot\n",
    "plt.rcParams[\"figure.figsize\"] = (10,8)\n",
    "plt.rcParams[\"axes.titlesize\"] = 18\n",
    "plt.rcParams[\"axes.labelsize\"] = 18\n",
    "plt.rcParams[\"xtick.labelsize\"] = 18\n",
    "plt.rcParams[\"ytick.labelsize\"] = 18\n",
    "\n",
    "# Generate the variable values\n",
    "n    = 3\n",
    "lag  = 1\n",
    "e    = 1\n",
    "ez   = .5\n",
    "adjM = np.array([[0, 1, 1], [1, 0, 1], [1, 1, 0]])\n",
    "lagM = np.array([[0, lag, lag], [lag, 0, lag], [lag, lag, 0]])\n",
    "\n",
    "# Parameters for simulation\n",
    "nstep = 10000\n",
    "noiseType = 'additive'\n",
    "noiseDist = 'uniform'\n",
    "noiseOn   = [1, 1, 1]\n",
    "noisePara = [1, 0, 1]\n",
    "\n",
    "# Generate the outputs\n",
    "logistic = Logistic(n, adjM, lagM, e, ez, noiseType=noiseType, \n",
    "                    noiseDist=noiseDist, noisePara=noisePara)\n",
    "results = logistic.simulate(nstep)\n",
    "d1, d2 = results[0,: ], results[1, :]*2\n",
    "\n",
    "# Plot\n",
    "t = range(nstep)\n",
    "# plt.plot(t, results[0, :], 'b')\n",
    "# plt.plot(t, results[1, :], 'k')\n",
    "plt.plot(d1[:-lag],d2[lag:],'.')\n",
    "plt.title('Time series data')\n",
    "plt.xlabel('x1(t-1)')\n",
    "plt.ylabel('x2(t)')\n",
    "plt.show()\n",
    "# # Save\n",
    "# np.savetxt('data.csv',results,delimiter=',')"
   ]
  },
  {
   "cell_type": "code",
   "execution_count": null,
   "metadata": {
    "collapsed": false,
    "deletable": true,
    "editable": true
   },
   "outputs": [],
   "source": [
    "# Rearrange the results with the lag\n",
    "results1 = np.array([d1[:-lag],d2[lag:]]).T\n",
    "\n",
    "# Calculate the PDF\n",
    "pdfsolver1 = pdfComputer(ndim=2, approach='kde', \n",
    "                         bandwidth='silverman', kernel='epanechnikov', base=2)\n",
    "_, pdf1, cd = pdfsolver1.computePDF(results1, nbins=[n1,n2])\n",
    "\n",
    "# Plot\n",
    "xv, yv = np.meshgrid(cd[0], cd[1], indexing='ij')\n",
    "plt.contourf(xv, yv, pdf1)\n",
    "plt.title('PDF plot')\n",
    "plt.xlabel('x1(t-1)')\n",
    "plt.ylabel('x2(t)')\n",
    "plt.show()\n",
    "\n",
    "# Calculate the INFO\n",
    "test1_info = info(pdf1)\n",
    "test1_info.allInfo"
   ]
  },
  {
   "cell_type": "code",
   "execution_count": null,
   "metadata": {
    "collapsed": false,
    "deletable": true,
    "editable": true
   },
   "outputs": [],
   "source": [
    "# 3D\n",
    "# Rearrange the results with the lag\n",
    "X, Y, Z = d2[:-lag]*.5, d1[:-lag], d2[lag:]\n",
    "results2 = np.array([X, Y, Z]).T\n",
    "\n",
    "# Calculate the PDF\n",
    "pdfsolver2 = pdfComputer(ndim=3, approach='kde', bandwidth='silverman', kernel='epanechnikov')\n",
    "_, pdf2, cd = pdfsolver2.computePDF(results2, nbins=[n1,n2,n3])\n",
    "# xv, yv = np.meshgrid(cd[0], cd[2], indexing='ij')\n",
    "# plt.contourf(xv, yv, np.sum(pdf2,axis=(1)))\n",
    "\n",
    "# Calculate the INFO\n",
    "test2_info = info(pdf2)\n",
    "print test2_info.allInfo\n",
    "\n",
    "# Plot\n",
    "fig = plt.figure()\n",
    "ax = fig.add_subplot(111, projection='3d')\n",
    "ax.scatter(X, Y, Z)\n",
    "ax.set_xlabel('x2(t-1)')\n",
    "ax.set_ylabel('x1(t-1)')\n",
    "ax.set_zlabel('x2(t)')\n",
    "plt.show()"
   ]
  },
  {
   "cell_type": "code",
   "execution_count": null,
   "metadata": {
    "collapsed": false,
    "deletable": true,
    "editable": true
   },
   "outputs": [],
   "source": [
    "# def transferEntropy(pdf):\n",
    "#     nx, ny, nz = pdf.shape\n",
    "#     # Calculate\n",
    "#     xpdfs = np.sum(pdf, axis=(1,2))\n",
    "#     xzpdfs = np.sum(pdf, axis=(1))\n",
    "#     xypdfs = np.sum(pdf, axis=(2))\n",
    "#     print xpdfs.shape, xzpdfs.shape, xypdfs.shape\n",
    "#     # Expand zpdfs, xzpdfs, yzpdfs to the shape (nx, ny, nz)\n",
    "#     xpdfs  = np.tile(xpdfs[:, np.newaxis, np.newaxis], [1, ny, nz])\n",
    "#     xzpdfs = np.tile(xzpdfs[:, np.newaxis, :], [1, ny, 1])\n",
    "#     xypdfs = np.tile(xypdfs[:, :, np.newaxis], [1, 1, nz])\n",
    "    \n",
    "#     txypdf_log = np.ma.log(pdf*xpdfs/(xzpdfs*xypdfs))\n",
    "#     txypdf_log = txypdf_log.filled(0)\n",
    "    \n",
    "#     txypdf = pdf*txypdf_log\n",
    "    \n",
    "#     return np.sum(txypdf)\n",
    "    \n",
    "# transferEntropy(pdf2)"
   ]
  },
  {
   "cell_type": "code",
   "execution_count": null,
   "metadata": {
    "collapsed": false,
    "deletable": true,
    "editable": true,
    "scrolled": true
   },
   "outputs": [],
   "source": [
    "# plt.subplot(3,1,1)\n",
    "# xv, zv = np.meshgrid(cd[0], cd[2], indexing='ij')\n",
    "# plt.contourf(xv, zv, np.sum(pdf2,axis=(1)))\n",
    "# plt.subplot(3,1,2)\n",
    "# xv, yv = np.meshgrid(cd[0], cd[1], indexing='ij')\n",
    "# plt.contourf(xv, yv, np.sum(pdf2,axis=(2)))\n",
    "# plt.subplot(3,1,3)\n",
    "# yv, zv = np.meshgrid(cd[1], cd[2], indexing='ij')\n",
    "# plt.contourf(yv, zv, np.sum(pdf2,axis=(0)))"
   ]
  },
  {
   "cell_type": "code",
   "execution_count": null,
   "metadata": {
    "collapsed": false,
    "deletable": true,
    "editable": true
   },
   "outputs": [],
   "source": [
    "# from scipy.stats import entropy\n",
    "# import sklearn.metrics as me\n",
    "# def mi(pdf, base=2):\n",
    "#     xpdf = np.sum(pdf, axis=1)\n",
    "#     ypdf = np.sum(pdf, axis=0)\n",
    "    \n",
    "#     return entropy(xpdf,base=base)+entropy(ypdf,base=base)- \\\n",
    "#            entropy(pdf.reshape(pdf.size),base=base)\n",
    "    \n",
    "# base=np.e\n",
    "# print me.mutual_info_score(d1[:-lag], d2[lag:])\n",
    "# pdfsolver1 = pdfComputer(ndim=2, approach='kde', \n",
    "#                          bandwidth='silverman', kernel='epanechnikov')\n",
    "# _, pdf1, cd = pdfsolver1.computePDF(results1)\n",
    "# test1_info = info(pdf1, base=base)\n",
    "# print test1_info.allInfo\n",
    "# print mi(pdf1, base=base)\n",
    "\n",
    "# labels_a = np.array([1, 1, 1, 1, 1, 1, 2, 2, 2, 2, 2, 2, 3, 3, 3, 3, 3])\n",
    "# labels_b = np.array([1, 1, 1, 1, 2, 1, 2, 2, 2, 2, 3, 1, 3, 3, 3, 2, 2])\n",
    "# results3 = np.array([labels_a, labels_b]).T\n",
    "# print me.mutual_info_score(labels_a, labels_b)\n",
    "# pdfsolver1 = pdfComputer(ndim=2, approach='kde', \n",
    "#                          bandwidth='silverman', kernel='epanechnikov')\n",
    "# _, pdf1, cd = pdfsolver1.computePDF(results3)\n",
    "# test1_info = info(pdf1, base=base)\n",
    "# print test1_info.allInfo\n",
    "# print mi(pdf1, base=base)"
   ]
  },
  {
   "cell_type": "code",
   "execution_count": null,
   "metadata": {
    "collapsed": false,
    "deletable": true,
    "editable": true
   },
   "outputs": [],
   "source": [
    "results"
   ]
  },
  {
   "cell_type": "code",
   "execution_count": null,
   "metadata": {
    "collapsed": true,
    "deletable": true,
    "editable": true
   },
   "outputs": [],
   "source": []
  }
 ],
 "metadata": {
  "kernelspec": {
   "display_name": "Python 2",
   "language": "python",
   "name": "python2"
  },
  "language_info": {
   "codemirror_mode": {
    "name": "ipython",
    "version": 2
   },
   "file_extension": ".py",
   "mimetype": "text/x-python",
   "name": "python",
   "nbconvert_exporter": "python",
   "pygments_lexer": "ipython2",
   "version": "2.7.10"
  }
 },
 "nbformat": 4,
 "nbformat_minor": 2
}
