{
 "cells": [
  {
   "cell_type": "code",
   "execution_count": 1,
   "metadata": {
    "collapsed": false
   },
   "outputs": [
    {
     "name": "stdout",
     "output_type": "stream",
     "text": [
      "Once deleted, variables cannot be recovered. Proceed (y/[n])? y\n"
     ]
    }
   ],
   "source": [
    "%reset\n",
    "%load_ext autoreload\n",
    "%autoreload 2\n",
    "\n",
    "import matplotlib.pyplot as plt\n",
    "import numpy as np\n",
    "from time import time\n",
    "\n",
    "from process_network import processNetwork\n",
    "%matplotlib inline"
   ]
  },
  {
   "cell_type": "code",
   "execution_count": 60,
   "metadata": {
    "collapsed": false
   },
   "outputs": [],
   "source": [
    "x = np.array([1,2,3,4,5,6,7,8,9])\n",
    "data = np.tile(x[np.newaxis,:], [5,1])\n",
    "i, j1, j2 = 3, 4, 0\n",
    "lag1, lag2 = -1, 3"
   ]
  },
  {
   "cell_type": "code",
   "execution_count": 61,
   "metadata": {
    "collapsed": false
   },
   "outputs": [
    {
     "name": "stdout",
     "output_type": "stream",
     "text": [
      "[1 2 3 4 5 6 7 8 9] [1 2 3 4 5 6 7 8 9] [1 2 3 4 5 6 7 8 9]\n",
      "[2 3 4 5 6 7 8 9] [1 2 3 4 5 6 7 8] [2 3 4 5 6 7 8 9]\n"
     ]
    },
    {
     "data": {
      "text/plain": [
       "(array([2, 3, 4, 5, 6]), array([1, 2, 3, 4, 5]), array([5, 6, 7, 8, 9]))"
      ]
     },
     "execution_count": 61,
     "metadata": {},
     "output_type": "execute_result"
    }
   ],
   "source": [
    "def getTargetSourceData(data, i, j1, j2, lag1, lag2):\n",
    "    '''\n",
    "    Get the data for the target variable and the two source variables with\n",
    "    time lag.\n",
    "    Inputs:\n",
    "        i          -- the index of the target variable [int]\n",
    "        j1, j2     -- the indices of the two source variables [int]\n",
    "        lag1, lag2 -- the time lags of the two source variables [int]\n",
    "    Outputs:\n",
    "        dtar       -- the array of the target variable [ndarray]\n",
    "        ds1        -- the array of the source variable 1 [ndarray]\n",
    "        ds2        -- the array of the source variable 2 [ndarray]\n",
    "    '''\n",
    "    dtar, ds1, ds2 = data[:, i], data[:, j1], data[:, j2]\n",
    "    print dtar, ds1, ds2\n",
    "\n",
    "    # Adjust the three variables according to the source 1\n",
    "    if lag1 > 0:   # the source 1 is delayed\n",
    "        dtar = dtar[:-lag1]\n",
    "        ds2 = ds2[:-lag1]\n",
    "        ds1 = ds1[lag1:]\n",
    "    elif lag1 < 0:  # the source 1 is forwarded\n",
    "        lag1 = -lag1\n",
    "        dtar = dtar[lag1:]\n",
    "        ds2 = ds2[lag1:]\n",
    "        ds1 = ds1[:-lag1]\n",
    "    elif lag1 == 0:  # no delay\n",
    "        dtar = dtar\n",
    "        dtar = dtar\n",
    "        ds1 = ds1\n",
    "    print dtar, ds1, ds2\n",
    "        \n",
    "    # Adjust the three variables according to the source 2\n",
    "    if lag2 > 0:   # the source 1 is delayed\n",
    "        dtar = dtar[:-lag2]\n",
    "        ds1 = ds1[:-lag2]\n",
    "        ds2 = ds2[lag2:]\n",
    "    elif lag2 < 0:  # the source 1 is forwarded\n",
    "        lag2 = -lag2\n",
    "        dtar = dtar[lag2:]\n",
    "        ds1 = ds1[lag2:]\n",
    "        ds2 = ds2[:-lag2]\n",
    "    elif lag2 == 0:  # no delay\n",
    "        dtar = dtar\n",
    "        ds2 = ds2\n",
    "        ds1 = ds1\n",
    "    \n",
    "    return dtar, ds1, ds2\n",
    "    \n",
    "getTargetSourceData(data.T, i, j1, j2, lag1, lag2)"
   ]
  },
  {
   "cell_type": "code",
   "execution_count": 62,
   "metadata": {
    "collapsed": false
   },
   "outputs": [
    {
     "name": "stdout",
     "output_type": "stream",
     "text": [
      "[1 2 3 4 5 6 7 8] [4 5 6 7 8 9]\n",
      "6\n"
     ]
    },
    {
     "data": {
      "text/plain": [
       "(array([1, 2, 3, 4, 5, 6]),\n",
       " array([1, 2, 3, 4, 5, 6]),\n",
       " array([4, 5, 6, 7, 8, 9]))"
      ]
     },
     "execution_count": 62,
     "metadata": {},
     "output_type": "execute_result"
    }
   ],
   "source": [
    "def getTargetSourceData2(data, i, j1, j2, lag1, lag2):\n",
    "    '''\n",
    "    Get the data for the target variable and the two source variables with\n",
    "    time lag.\n",
    "    Inputs:\n",
    "        i          -- the index of the target variable [int]\n",
    "        j1, j2     -- the indices of the two source variables [int]\n",
    "        lag1, lag2 -- the time lags of the two source variables [int]\n",
    "    Outputs:\n",
    "        dtar       -- the array of the target variable [ndarray]\n",
    "        ds1        -- the array of the source variable 1 [ndarray]\n",
    "        ds2        -- the array of the source variable 2 [ndarray]\n",
    "    '''\n",
    "    dtar, ds1, ds2 = data[:, i], data[:, j1], data[:, j2]\n",
    "\n",
    "    # Readjust ds1 and ds2 based on the their lags\n",
    "    ds1 = ds1[lag1:] if lag1 > 0 else ds1[:lag1] if lag1 < 0 else ds1\n",
    "    ds2 = ds2[lag2:] if lag2 > 0 else ds2[:lag2] if lag2 < 0 else ds2\n",
    "    print ds1, ds2\n",
    "\n",
    "    # Get the minimum length of the array\n",
    "    minlen = np.min([dtar.size, ds1.size, ds2.size])\n",
    "    print minlen\n",
    "\n",
    "    # Now each data set starts from the defined time.\n",
    "    # Therefore, cut the tail part tha exceeds minlen.\n",
    "    dtar, ds1, ds2 = dtar[:minlen], ds1[:minlen], ds2[:minlen]\n",
    "\n",
    "    return dtar, ds1, ds2\n",
    "\n",
    "getTargetSourceData2(data.T, i, j1, j2, lag1, lag2)"
   ]
  },
  {
   "cell_type": "code",
   "execution_count": 2,
   "metadata": {
    "collapsed": false
   },
   "outputs": [
    {
     "name": "stdout",
     "output_type": "stream",
     "text": [
      "Test 1...\n",
      "0.0488939285278\n",
      "0.103842020035\n",
      "Test 2...\n",
      "0.047308921814\n",
      "0.0533618927002\n",
      "0.0441288948059\n"
     ]
    }
   ],
   "source": [
    "N=100000\n",
    "a_set = np.zeros(N)\n",
    "b_set = np.ones(N)\n",
    "\n",
    "print 'Test 1...'\n",
    "start = time()\n",
    "for a in a_set:\n",
    "    a**2\n",
    "print time()-start\n",
    "\n",
    "start = time()\n",
    "for a in np.nditer(a_set):\n",
    "    a**2\n",
    "print time()-start\n",
    "\n",
    "print 'Test 2...'\n",
    "start = time()\n",
    "for i in range(N):\n",
    "    b_set[i] = a_set[i]**2\n",
    "print time()-start\n",
    "\n",
    "start = time()\n",
    "b_set = np.array(map(lambda i: a_set[i]**2, range(N)))\n",
    "print time()-start\n",
    "\n",
    "start = time()\n",
    "b_set = np.array(map(lambda a: a**2, a_set))\n",
    "print time()-start"
   ]
  },
  {
   "cell_type": "code",
   "execution_count": null,
   "metadata": {
    "collapsed": true
   },
   "outputs": [],
   "source": []
  }
 ],
 "metadata": {
  "kernelspec": {
   "display_name": "Python 2",
   "language": "python",
   "name": "python2"
  },
  "language_info": {
   "codemirror_mode": {
    "name": "ipython",
    "version": 2
   },
   "file_extension": ".py",
   "mimetype": "text/x-python",
   "name": "python",
   "nbconvert_exporter": "python",
   "pygments_lexer": "ipython2",
   "version": "2.7.13"
  }
 },
 "nbformat": 4,
 "nbformat_minor": 2
}
